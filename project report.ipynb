{
 "cells": [
  {
   "cell_type": "markdown",
   "metadata": {},
   "source": [
    "# Final Project Report\n",
    "------------------------------------\n",
    "> *Truth is confirmed by inspection and delay; falsehood by haste and uncertainty.*\n",
    "Tacitus\n",
    "\n",
    "\n",
    "\n",
    "Team: Dobrovolskyy Nazar, Dulher Liia, Kypybida Diana\n",
    "\n",
    "Topic: 2D Linear transformations\n",
    "\n",
    "Aim: To show how mathematics, especially linear algebra, can be used in games. We are going to design an engaging, addictive, interesting, stylish and, most importantly, purely mathematical game (both gameplay and visuals will be restricted to mathematical puzzles and formulas)\n",
    "\n",
    "GitHub link: https://github.com/OutJeck/project_la"
   ]
  },
  {
   "cell_type": "markdown",
   "metadata": {},
   "source": [
    "Introduction\n",
    "We researched linear transformations and their applications. We want to show how mathematics, especially linear algebra, can be used in games. In this game, we want to show that everything can be built using mathematical principles, and it will not be boring. Our project will help students (in-game form) understand what linear transformations are, how to make them and what great results they can create. It's much more effective when you play this game and then read about it.This way we better understand how transformations work by making them visible in our game. "
   ]
  },
  {
   "cell_type": "markdown",
   "metadata": {},
   "source": [
    "## Catch a Star\n",
    "\n",
    "### Game description\n",
    "There is a controller in the top left corner. It represents the matrix of the 2D transformation currently applied to the game space. The user has to change the entries of this matrix by left\\right clicking them (increase\\decrease value) to catch the star with the circle.\n",
    "\n",
    "<img src=\"./img/initial.png\" width=\"300\" style=\"display: inline;\">\n",
    "<img src=\"./img/moved.png\" width=\"300\" style=\"display: inline;\">\n",
    "<img src=\"./img/second.png\" width=\"300\" style=\"display: inline;\">"
   ]
  },
  {
   "cell_type": "markdown",
   "metadata": {},
   "source": [
    "### The Mathematix of the game\n",
    "Let's solve the problem of catching a star.\n",
    "\n",
    "We have a circle of radius `r` and center (`R`, $\\alpha$) in polar coordinates. We have to \"catch\" the `star` located in (x, y) by moving the center of this circle so that the `star` is within radius `r` from it. \n",
    "<img src=\"./img/problem.png\" width=\"400\">"
   ]
  },
  {
   "cell_type": "markdown",
   "metadata": {},
   "source": [
    "What transformations solve this problem?\n",
    "\n",
    "\n",
    "$M = \\begin{bmatrix}\n",
    "a & b\\\\\n",
    "c & d\n",
    "\\end{bmatrix}$ - transformation matrix\n",
    "\n",
    "$\\begin{pmatrix}\n",
    "R cos \\alpha\\\\\n",
    "R sin \\alpha\n",
    "\\end{pmatrix}$ - center of the circle\n",
    "\n",
    "$$\n",
    "distance (\\begin{bmatrix}\n",
    "a & b\\\\\n",
    "c & d\n",
    "\\end{bmatrix}\\begin{pmatrix}\n",
    "R cos \\alpha\\\\\n",
    "R sin \\alpha\n",
    "\\end{pmatrix}, \\begin{pmatrix}\n",
    "x\\\\\n",
    "y\n",
    "\\end{pmatrix}) \\leq r\n",
    "$$"
   ]
  },
  {
   "cell_type": "markdown",
   "metadata": {},
   "source": [
    "The solution is a combination of **rotation** and **scale**. A combination of rotation by angle $\\beta$ such that the line in the direction $\\begin{pmatrix}R cos \\alpha\\\\R sin \\alpha\\end{pmatrix}$ intersects the circle of radius `r` around the `star` and all scales from `R's/R` to `R'e/R` where `R's`, `R'e` - distance from the origin to the closer \\ more distant intersection points.\n",
    "<img src=\"./img/solution.png\" width=\"400\">"
   ]
  },
  {
   "cell_type": "markdown",
   "metadata": {},
   "source": [
    "### Discrete valued matrices\n",
    "Continuous values in the matrix are move complicated to control in the game, that is why there is a limited number of values (from -`N` to `N` with a step `d`). \n",
    "\n",
    "How many clicks does the user need to get from matrix A to matrix B? To get entry *b* from *a* we need |*a*-*b*|/`d` clicks. \n",
    "\n",
    "But there can be many in game matrices that catch the star. We have to find the one that is the **closest to the current values of the matrix** and then we can make the user compete with the computer that solves the problem optimally.  "
   ]
  },
  {
   "cell_type": "markdown",
   "metadata": {},
   "source": [
    "    1) Rotation\n",
    "What is the range of acceptable angles of rotation?\n",
    "This is simple:\n",
    "we know what the difference between the solution angles is and the angle in the direction of the star, because we know its coordinates - $\\gamma$. Our angles thus range from $\\gamma - arcsin({r\\over{\\sqrt(x^2+y^2)}})$ to $\\gamma + arcsin({r\\over{\\sqrt(x^2+y^2)}})$\n",
    "<img src=\"./img/angle.png\" width=\"300\">\n",
    "\n",
    "    2) Scale\n",
    "$(Rcos\\theta-x)^2 + (Rsin\\theta-y)^2 = r^2$\n",
    "\n",
    "$R^2 - 2R(xcos\\theta+ysin\\theta) + x^2 + y^2 - r^2 = 0$\n",
    "\n",
    "$D = 4(xcos\\theta+ysin\\theta)^2 - 4(x^2 + y^2 - r^2)$\n",
    "\n",
    "$R = {(xcos\\theta+ysin\\theta) \\pm \\sqrt{r^2-(xsin\\theta -ycos\\theta)^2}}$\n",
    "\n",
    "We only have to multiply coordinates of the rotated vector by a coefficient between $\\sqrt{R\\over{(xcos\\theta+ysin\\theta) + \\sqrt{r^2-(xsin\\theta -ycos\\theta)^2}}}$ and $\\sqrt{R\\over{(xcos\\theta+ysin\\theta) - \\sqrt{r^2-(xsin\\theta -ycos\\theta)^2}}}$.\n",
    "\n",
    "\n",
    "\n",
    "\n",
    "The composite rotation+scale matrix is $\\begin{bmatrix}k cos\\theta&-k sin\\theta\\\\k sin\\theta&k cos\\theta\\end{bmatrix}$, $\\theta$ - angle from $\\gamma - arcsin({r\\over{\\sqrt(x^2+y^2)}})$ to $\\gamma + arcsin({r\\over{\\sqrt(x^2+y^2)}})$, $k$ - a coefficient between $\\sqrt{R\\over{(xcos\\theta+ysin\\theta) + \\sqrt{r^2-(xsin\\theta -ycos\\theta)^2}}}$ and $\\sqrt{R\\over{(xcos\\theta+ysin\\theta) - \\sqrt{r^2-(xsin\\theta -ycos\\theta)^2}}}$."
   ]
  },
  {
   "cell_type": "markdown",
   "metadata": {},
   "source": [
    "## Klein Bottle Visual\n",
    "Klein bottle is a 4d shape, but it can be expressed in terms of 2 angles: $\\theta$ and $v$ ($\\epsilon$ is just a constant here). We gave the user the ability to apply a linear transformation to those 2 coordinates like to the plane before. We display the projection of the resulting shape onto axis planes (simply display all 6 possible pairs of coordinates). The result is a mesmerising visualization - be fascinated by mathematics yet again. \n",
    "<img src='img/klein1.png' width=400>\n",
    "\n",
    "<img src='img/klein2.png' width=400 style=\"display:inline;\">\n",
    "<img src='img/klein3.png' width=400 style=\"display:inline;\">\n",
    "<img src='img/klein4.png' width=400 style=\"display:inline;\">\n",
    "<img src='img/klein5.png' width=400 style=\"display:inline;\">\n",
    "<img src='img/klein6.png' width=400 style=\"display:inline;\">\n",
    "<img src='img/klein7.png' width=400 style=\"display:inline;\">"
   ]
  },
  {
   "cell_type": "markdown",
   "metadata": {},
   "source": [
    "### The Code\n",
    "Our game is in python, we used `numpy`, `matplotlib` and `pygame` for this project."
   ]
  },
  {
   "cell_type": "markdown",
   "metadata": {},
   "source": [
    "#### Experiments\n",
    "This part of the report is not very relevant to our project, but it is important that the game is interesting to the user. We decided that the best test would be to let our fellow students play those games during our presentation.\n",
    "\n",
    "Therefore, we are planning to get feedback about the developed games  then and there. \n",
    "\n",
    "Of course, we also showed them to our acquaintances for general feedback and got some useful tips about the design, complexity, etc. Those lucky test subjects liked everything, and we expect good reception and even more valuable feedback at the presentation."
   ]
  },
  {
   "cell_type": "markdown",
   "metadata": {},
   "source": [
    "### Conclusions\n",
    "##### Theory\n",
    "We basically expressed a 2D circular region in terms of a vector and a set of transformation matrices when solving *Catch a Star*. \n",
    "\n",
    "##### Practice\n",
    "We created two excellent and exciting puzzles, thanks to which you get to feel and see the linear transformations. The *Catch a Star* game is tricky and addictive and *Klein Bottle Visualization* is a mathematical caleidoscope. \n"
   ]
  },
  {
   "cell_type": "code",
   "execution_count": null,
   "metadata": {},
   "outputs": [],
   "source": []
  }
 ],
 "metadata": {
  "kernelspec": {
   "display_name": "Python 3",
   "language": "python",
   "name": "python3"
  },
  "language_info": {
   "codemirror_mode": {
    "name": "ipython",
    "version": 3
   },
   "file_extension": ".py",
   "mimetype": "text/x-python",
   "name": "python",
   "nbconvert_exporter": "python",
   "pygments_lexer": "ipython3",
   "version": "3.6.6"
  }
 },
 "nbformat": 4,
 "nbformat_minor": 2
}
